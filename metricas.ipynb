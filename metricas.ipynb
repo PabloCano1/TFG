{
 "cells": [
  {
   "cell_type": "code",
   "execution_count": 1,
   "id": "4fdc78c7",
   "metadata": {},
   "outputs": [],
   "source": [
    "import evaluate\n",
    "from transformers import AutoTokenizer, AutoModelForCausalLM\n",
    "import torch\n",
    "import numpy as np\n",
    "from datasets import load_dataset\n",
    "from transformers import set_seed\n",
    "from tqdm import tqdm"
   ]
  },
  {
   "cell_type": "code",
   "execution_count": 2,
   "id": "4a896991",
   "metadata": {},
   "outputs": [],
   "source": [
    "\n",
    "seed = 42\n",
    "set_seed(seed)\n",
    "\n",
    "\n",
    "\n",
    "\n",
    "\n",
    "\n",
    "# Corrección: cargar JSON local correctamente\n",
    "dataset = load_dataset('json', data_files='./data/discourse_qa.json')\n",
    "#remove columns that are not needed \"question\" and \"answer\"\n",
    "dataset = dataset.remove_columns([\"question\", \"answer\"])\n",
    "#split train and test\n",
    "dataset = dataset[\"train\"].train_test_split(0.1)"
   ]
  },
  {
   "cell_type": "code",
   "execution_count": 3,
   "id": "7fe09068",
   "metadata": {},
   "outputs": [],
   "source": [
    "import evaluate\n",
    "\n",
    "bleu = evaluate.load(\"bleu\")\n",
    "rouge = evaluate.load(\"rouge\")\n",
    "\n",
    "# ejemplos planos\n",
    "# predictions = [\"respuesta generada por el modelo 1\", \"respuesta generada 2\"]\n",
    "# reales = [\"respuesta real 1\", \"respuesta real 2\"]\n",
    "\n",
    "reales = [i['text'] for i in dataset['test']]"
   ]
  },
  {
   "cell_type": "markdown",
   "id": "2d4989cf",
   "metadata": {},
   "source": [
    "---"
   ]
  },
  {
   "cell_type": "code",
   "execution_count": 4,
   "id": "08294344",
   "metadata": {},
   "outputs": [],
   "source": [
    "model_name = \"PabloCano1/llama1b-entreno\"\n",
    "tokenizer = AutoTokenizer.from_pretrained(model_name)\n",
    "model = AutoModelForCausalLM.from_pretrained(model_name,\n",
    "                                             attn_implementation='eager',\n",
    "                                             device_map=\"cuda\",dtype=torch.bfloat16)\n",
    "# model.to(\"cuda\")"
   ]
  },
  {
   "cell_type": "code",
   "execution_count": 6,
   "id": "b3c24ecc",
   "metadata": {},
   "outputs": [
    {
     "name": "stderr",
     "output_type": "stream",
     "text": [
      "100%|██████████| 884/884 [10:22<00:00,  1.42it/s]\n"
     ]
    }
   ],
   "source": [
    "predictions = []\n",
    "reales_only_response = []\n",
    "for real in tqdm(reales):\n",
    "    real_no_response = real[:real.find('### Expected Response:') + len(\"### Expected Response:\")].strip()\n",
    "    inputs = tokenizer(real_no_response, return_tensors=\"pt\").to(model.device)\n",
    "    with torch.no_grad():\n",
    "        outputs = model.generate(\n",
    "            **inputs,\n",
    "            max_new_tokens=None,\n",
    "            do_sample=True,\n",
    "            temperature=0.5,\n",
    "            top_p=0.90,\n",
    "            pad_token_id=tokenizer.eos_token_id\n",
    "        )\n",
    "    output = tokenizer.decode(outputs[0], skip_special_tokens=True)\n",
    "    # print(f\"{output=}\")\n",
    "    # print(f\"{real=}\")\n",
    "    reales_only_response.append(real[real.find('### Expected Response:') + len('### Expected Response:'):].strip())\n",
    "    predictions.append(output[output.find('### Expected Response:')+len('### Expected Response:'):].strip())\n",
    "    # print(f\"{reales_only_response[-1]=}\")\n",
    "    # print(f\"{predictions[-1]=}\")\n"
   ]
  },
  {
   "cell_type": "code",
   "execution_count": 7,
   "id": "51c95581",
   "metadata": {},
   "outputs": [
    {
     "name": "stdout",
     "output_type": "stream",
     "text": [
      "BLEU: 0.03018014538913631\n",
      "ROUGE: {'rouge1': np.float64(0.3161894608405227), 'rouge2': np.float64(0.11906154346984041), 'rougeL': np.float64(0.30484769362609815), 'rougeLsum': np.float64(0.31318760950302515)}\n"
     ]
    }
   ],
   "source": [
    "\n",
    "# Para BLEU la librería espera referencias como lista de listas (cada pred puede tener varias refs)\n",
    "references_for_bleu = [[r] for r in reales_only_response]   # [[\"respuesta real 1\"], [\"respuesta real 2\"]]\n",
    "\n",
    "# Opción 1: pasar cadenas y dejar que evaluate haga el tokenizado internamente\n",
    "bleu_result = bleu.compute(predictions=predictions, references=references_for_bleu)\n",
    "print(\"BLEU:\", bleu_result[\"bleu\"])\n",
    "\n",
    "# ROUGE normalmente recibe listas de strings\n",
    "rouge_result = rouge.compute(predictions=predictions, references=reales_only_response)\n",
    "print(\"ROUGE:\", rouge_result)"
   ]
  },
  {
   "cell_type": "code",
   "execution_count": 8,
   "id": "0359ff08",
   "metadata": {},
   "outputs": [],
   "source": [
    "prompt =reales[0][:reales[0].find('### Expected Response:') + len(\"### Expected Response:\")]\n",
    "continuacion_real = reales_only_response[0]\n",
    "continuacion_pred = predictions[0]"
   ]
  },
  {
   "cell_type": "code",
   "execution_count": 15,
   "id": "5594cbbf",
   "metadata": {},
   "outputs": [
    {
     "name": "stderr",
     "output_type": "stream",
     "text": [
      "  4%|▍         | 36/884 [01:52<42:31,  3.01s/it]  "
     ]
    },
    {
     "name": "stdout",
     "output_type": "stream",
     "text": [
      "You are a patient that has gone to do an interview with a psychologist. The psychologist will ask you a series of questions and you will answer them in a natural way:\n",
      "\n",
      "### Input:\n",
      "okay .\n",
      " like West Mount area .\n",
      "\n",
      "### Expected Response:\n"
     ]
    },
    {
     "name": "stderr",
     "output_type": "stream",
     "text": [
      "100%|██████████| 884/884 [51:01<00:00,  3.46s/it]  \n"
     ]
    }
   ],
   "source": [
    "# Tokeniza prompt y continuación\n",
    "means = []\n",
    "for ind in tqdm(range(len(reales))):\n",
    "    prompt =reales[ind][:reales[ind].find('### Expected Response:') + len(\"### Expected Response:\")]\n",
    "    continuacion_real = reales_only_response[ind]\n",
    "    continuacion_pred = predictions[ind]\n",
    "    input_ids = tokenizer(prompt, return_tensors=\"pt\").input_ids.to(model.device)\n",
    "    continuation_ids = tokenizer(continuacion_pred, add_special_tokens=False, return_tensors=\"pt\").input_ids.squeeze(0).to(model.device)\n",
    "\n",
    "    log_prob_sum = 0.0\n",
    "    with torch.no_grad():\n",
    "        for i in range(continuation_ids.size(0)):\n",
    "            context_ids = torch.cat([input_ids, continuation_ids[:i].unsqueeze(0)], dim=1).to(model.device)\n",
    "            outputs = model(input_ids=context_ids)\n",
    "            logits = outputs.logits[:, -1, :]          # Predicción del siguiente token\n",
    "            log_probs = torch.log_softmax(logits, dim=-1)\n",
    "            idx = continuation_ids[i].item()\n",
    "            log_prob_sum += log_probs[0, idx].item()\n",
    "    if continuation_ids.size(0) == 0:\n",
    "        print(prompt)\n",
    "        prob_media = 0.0\n",
    "    else:\n",
    "        prob_media = torch.exp(torch.tensor(log_prob_sum / continuation_ids.size(0))).item()\n",
    "    means.append(prob_media)\n",
    "    # print(f\"Probabilidad media por token: {prob_media:.2f}\")\n"
   ]
  },
  {
   "cell_type": "code",
   "execution_count": 17,
   "id": "2d20f3f4",
   "metadata": {},
   "outputs": [
    {
     "data": {
      "text/plain": [
       "np.float64(0.17826805992380662)"
      ]
     },
     "execution_count": 17,
     "metadata": {},
     "output_type": "execute_result"
    }
   ],
   "source": [
    "np.mean(means)"
   ]
  },
  {
   "cell_type": "markdown",
   "id": "03a9c3fe",
   "metadata": {},
   "source": [
    "---"
   ]
  },
  {
   "cell_type": "code",
   "execution_count": 4,
   "id": "a0783429",
   "metadata": {},
   "outputs": [],
   "source": [
    "model_name = \"meta-llama/Llama-3.2-1B\"\n",
    "tokenizer = AutoTokenizer.from_pretrained(model_name)\n",
    "model = AutoModelForCausalLM.from_pretrained(model_name,\n",
    "                                             attn_implementation='eager',\n",
    "                                             device_map=\"cuda\",dtype=torch.bfloat16)"
   ]
  },
  {
   "cell_type": "code",
   "execution_count": 5,
   "id": "3ea7e524",
   "metadata": {},
   "outputs": [
    {
     "name": "stderr",
     "output_type": "stream",
     "text": [
      "100%|██████████| 884/884 [10:22<00:00,  1.42it/s]\n"
     ]
    }
   ],
   "source": [
    "predictions = []\n",
    "reales_only_response = []\n",
    "for real in tqdm(reales):\n",
    "    real_no_response = real[:real.find('### Expected Response:') + len(\"### Expected Response:\")].strip()\n",
    "    inputs = tokenizer(real_no_response, return_tensors=\"pt\").to(model.device)\n",
    "    with torch.no_grad():\n",
    "        outputs = model.generate(\n",
    "            **inputs,\n",
    "            max_new_tokens=None,\n",
    "            do_sample=True,\n",
    "            # temperature=0.2,\n",
    "            # top_p=0.90,\n",
    "            pad_token_id=tokenizer.eos_token_id\n",
    "        )\n",
    "    output = tokenizer.decode(outputs[0], skip_special_tokens=True)\n",
    "    # print(f\"{output=}\")\n",
    "    # print(f\"{real=}\")\n",
    "    reales_only_response.append(real[real.find('### Expected Response:') + len('### Expected Response:'):].strip())\n",
    "    predictions.append(output[output.find('### Expected Response:')+len('### Expected Response:'):].strip())\n",
    "    # print(f\"{reales_only_response[-1]=}\")"
   ]
  },
  {
   "cell_type": "code",
   "execution_count": 6,
   "id": "61994add",
   "metadata": {},
   "outputs": [
    {
     "name": "stdout",
     "output_type": "stream",
     "text": [
      "BLEU: 0.0019859048546859376\n",
      "ROUGE: {'rouge1': np.float64(0.055644729371710985), 'rouge2': np.float64(0.009380320904948525), 'rougeL': np.float64(0.04835310189850546), 'rougeLsum': np.float64(0.052667108418732254)}\n"
     ]
    }
   ],
   "source": [
    "\n",
    "# Para BLEU la librería espera referencias como lista de listas (cada pred puede tener varias refs)\n",
    "references_for_bleu = [[r] for r in reales_only_response]   # [[\"respuesta real 1\"], [\"respuesta real 2\"]]\n",
    "\n",
    "# Opción 1: pasar cadenas y dejar que evaluate haga el tokenizado internamente\n",
    "bleu_result = bleu.compute(predictions=predictions, references=references_for_bleu)\n",
    "print(\"BLEU:\", bleu_result[\"bleu\"])\n",
    "\n",
    "# ROUGE normalmente recibe listas de strings\n",
    "rouge_result = rouge.compute(predictions=predictions, references=reales_only_response)\n",
    "print(\"ROUGE:\", rouge_result)"
   ]
  },
  {
   "cell_type": "markdown",
   "id": "dc3f858c",
   "metadata": {},
   "source": [
    "---"
   ]
  },
  {
   "cell_type": "code",
   "execution_count": 13,
   "id": "f7415cb2",
   "metadata": {},
   "outputs": [],
   "source": [
    "prompt =reales[0][:reales[0].find('### Expected Response:') + len(\"### Expected Response:\")]\n",
    "continuacion_real = reales_only_response[0]\n",
    "continuacion_pred = predictions[0]"
   ]
  },
  {
   "cell_type": "code",
   "execution_count": 7,
   "id": "e718a666",
   "metadata": {},
   "outputs": [
    {
     "name": "stderr",
     "output_type": "stream",
     "text": [
      "  1%|          | 8/884 [00:33<57:23,  3.93s/it]  "
     ]
    },
    {
     "name": "stdout",
     "output_type": "stream",
     "text": [
      "You are a patient that has gone to do an interview with a psychologist. The psychologist will ask you a series of questions and you will answer them in a natural way:\n",
      "\n",
      "### Input:\n",
      "interesting .\n",
      " funny how that works sometimes .\n",
      "\n",
      "### Expected Response:\n"
     ]
    },
    {
     "name": "stderr",
     "output_type": "stream",
     "text": [
      "  1%|▏         | 13/884 [00:47<45:59,  3.17s/it]"
     ]
    },
    {
     "name": "stdout",
     "output_type": "stream",
     "text": [
      "You are a patient that has gone to do an interview with a psychologist. The psychologist will ask you a series of questions and you will answer them in a natural way:\n",
      "\n",
      "### Input:\n",
      "mhm .\n",
      "\n",
      "### Expected Response:\n"
     ]
    },
    {
     "name": "stderr",
     "output_type": "stream",
     "text": [
      "  2%|▏         | 20/884 [01:11<51:28,  3.58s/it]"
     ]
    },
    {
     "name": "stdout",
     "output_type": "stream",
     "text": [
      "You are a patient that has gone to do an interview with a psychologist. The psychologist will ask you a series of questions and you will answer them in a natural way:\n",
      "\n",
      "### Input:\n",
      "that's okay .\n",
      " &-um no that's awesome .\n",
      " and not everyone is good at all these tasks .\n",
      " okay .\n",
      "\n",
      "### Expected Response:\n"
     ]
    },
    {
     "name": "stderr",
     "output_type": "stream",
     "text": [
      "  4%|▎         | 32/884 [01:54<43:11,  3.04s/it]  "
     ]
    },
    {
     "name": "stdout",
     "output_type": "stream",
     "text": [
      "You are a patient that has gone to do an interview with a psychologist. The psychologist will ask you a series of questions and you will answer them in a natural way:\n",
      "\n",
      "### Input:\n",
      "mhm .\n",
      "\n",
      "### Expected Response:\n"
     ]
    },
    {
     "name": "stderr",
     "output_type": "stream",
     "text": [
      "  5%|▍         | 41/884 [02:24<47:45,  3.40s/it]"
     ]
    },
    {
     "name": "stdout",
     "output_type": "stream",
     "text": [
      "You are a patient that has gone to do an interview with a psychologist. The psychologist will ask you a series of questions and you will answer them in a natural way:\n",
      "\n",
      "### Input:\n",
      "okay .\n",
      " &-um do you wanna talk briefly about &-um the city that you grew up in .\n",
      "\n",
      "### Expected Response:\n"
     ]
    },
    {
     "name": "stderr",
     "output_type": "stream",
     "text": [
      "  5%|▌         | 47/884 [02:50<1:01:47,  4.43s/it]"
     ]
    },
    {
     "name": "stdout",
     "output_type": "stream",
     "text": [
      "You are a patient that has gone to do an interview with a psychologist. The psychologist will ask you a series of questions and you will answer them in a natural way:\n",
      "\n",
      "### Input:\n",
      "all cool .\n",
      " okay .\n",
      " so we'll move on to things less personal .\n",
      "\n",
      "### Expected Response:\n"
     ]
    },
    {
     "name": "stderr",
     "output_type": "stream",
     "text": [
      "  6%|▌         | 52/884 [03:07<54:51,  3.96s/it]  "
     ]
    },
    {
     "name": "stdout",
     "output_type": "stream",
     "text": [
      "You are a patient that has gone to do an interview with a psychologist. The psychologist will ask you a series of questions and you will answer them in a natural way:\n",
      "\n",
      "### Input:\n",
      "it's okay .\n",
      "\n",
      "### Expected Response:\n"
     ]
    },
    {
     "name": "stderr",
     "output_type": "stream",
     "text": [
      "  6%|▌         | 55/884 [03:17<54:12,  3.92s/it]"
     ]
    },
    {
     "name": "stdout",
     "output_type": "stream",
     "text": [
      "You are a patient that has gone to do an interview with a psychologist. The psychologist will ask you a series of questions and you will answer them in a natural way:\n",
      "\n",
      "### Input:\n",
      "okay .\n",
      " cool all right .\n",
      " so the next part I'm not sure how much it's going to relate to you .\n",
      " but you can respond in any way that you want to .\n",
      " &-um so I'd like you to talk about a few things related to your health .\n",
      " you can describe what happened and how you felt .\n",
      " and again don't use anyone's names if possible .\n",
      " do you think you have a mental illness .\n",
      " if so what do you think it is .\n",
      "\n",
      "### Expected Response:\n",
      "You are a patient that has gone to do an interview with a psychologist. The psychologist will ask you a series of questions and you will answer them in a natural way:\n",
      "\n",
      "### Input:\n",
      "perfect .\n",
      " thank you very much .\n",
      " here's your second photo .\n",
      "\n",
      "### Expected Response:\n",
      "You are a patient that has gone to do an interview with a psychologist. The psychologist will ask you a series of questions and you will answer them in a natural way:\n",
      "\n",
      "### Input:\n",
      "cool .\n",
      " wow .\n",
      " interesting .\n",
      "\n",
      "### Expected Response:\n",
      "You are a patient that has gone to do an interview with a psychologist. The psychologist will ask you a series of questions and you will answer them in a natural way:\n",
      "\n",
      "### Input:\n",
      "awesome .\n",
      " &-um so how would you describe yourself like what kind of person do you see yourself as?\n",
      "\n",
      "### Expected Response:\n"
     ]
    },
    {
     "name": "stderr",
     "output_type": "stream",
     "text": [
      "  7%|▋         | 60/884 [03:20<25:24,  1.85s/it]"
     ]
    },
    {
     "name": "stdout",
     "output_type": "stream",
     "text": [
      "You are a patient that has gone to do an interview with a psychologist. The psychologist will ask you a series of questions and you will answer them in a natural way:\n",
      "\n",
      "### Input:\n",
      "yeah .\n",
      " and you can get them everywhere .\n",
      " huh .\n",
      "\n",
      "### Expected Response:\n"
     ]
    },
    {
     "name": "stderr",
     "output_type": "stream",
     "text": [
      "  8%|▊         | 67/884 [03:46<44:39,  3.28s/it]"
     ]
    },
    {
     "name": "stdout",
     "output_type": "stream",
     "text": [
      "You are a patient that has gone to do an interview with a psychologist. The psychologist will ask you a series of questions and you will answer them in a natural way:\n",
      "\n",
      "### Input:\n",
      "yes yeah it [/] it does end up being something you have to face every day .\n",
      " right .\n",
      "\n",
      "### Expected Response:\n"
     ]
    },
    {
     "name": "stderr",
     "output_type": "stream",
     "text": [
      "  9%|▉         | 82/884 [04:44<57:33,  4.31s/it]  "
     ]
    },
    {
     "name": "stdout",
     "output_type": "stream",
     "text": [
      "You are a patient that has gone to do an interview with a psychologist. The psychologist will ask you a series of questions and you will answer them in a natural way:\n",
      "\n",
      "### Input:\n",
      "you can like pick it up as you need to .\n",
      "\n",
      "### Expected Response:\n"
     ]
    },
    {
     "name": "stderr",
     "output_type": "stream",
     "text": [
      " 10%|█         | 91/884 [05:18<51:51,  3.92s/it]"
     ]
    },
    {
     "name": "stdout",
     "output_type": "stream",
     "text": [
      "You are a patient that has gone to do an interview with a psychologist. The psychologist will ask you a series of questions and you will answer them in a natural way:\n",
      "\n",
      "### Input:\n",
      "no you got the gist of the story there .\n",
      "\n",
      "### Expected Response:\n"
     ]
    },
    {
     "name": "stderr",
     "output_type": "stream",
     "text": [
      " 11%|█         | 94/884 [05:30<53:14,  4.04s/it]"
     ]
    },
    {
     "name": "stdout",
     "output_type": "stream",
     "text": [
      "You are a patient that has gone to do an interview with a psychologist. The psychologist will ask you a series of questions and you will answer them in a natural way:\n",
      "\n",
      "### Input:\n",
      "like you're definitely very smart .\n",
      " and you will get back to school and work for sure .\n",
      " &-um it's just gonna take a little bit of time .\n",
      "\n",
      "### Expected Response:\n",
      "You are a patient that has gone to do an interview with a psychologist. The psychologist will ask you a series of questions and you will answer them in a natural way:\n",
      "\n",
      "### Input:\n",
      "mhm .\n",
      "\n",
      "### Expected Response:\n",
      "You are a patient that has gone to do an interview with a psychologist. The psychologist will ask you a series of questions and you will answer them in a natural way:\n",
      "\n",
      "### Input:\n",
      "she sound like a feisty lady .\n",
      "\n",
      "### Expected Response:\n"
     ]
    },
    {
     "name": "stderr",
     "output_type": "stream",
     "text": [
      " 11%|█         | 99/884 [05:40<37:17,  2.85s/it]"
     ]
    },
    {
     "name": "stdout",
     "output_type": "stream",
     "text": [
      "You are a patient that has gone to do an interview with a psychologist. The psychologist will ask you a series of questions and you will answer them in a natural way:\n",
      "\n",
      "### Input:\n",
      "no it's okay .\n",
      " do your best there .\n",
      " and take a moment .\n",
      "\n",
      "### Expected Response:\n"
     ]
    },
    {
     "name": "stderr",
     "output_type": "stream",
     "text": [
      " 12%|█▏        | 105/884 [06:02<44:52,  3.46s/it]"
     ]
    },
    {
     "name": "stdout",
     "output_type": "stream",
     "text": [
      "You are a patient that has gone to do an interview with a psychologist. The psychologist will ask you a series of questions and you will answer them in a natural way:\n",
      "\n",
      "### Input:\n",
      "mhm .\n",
      "\n",
      "### Expected Response:\n"
     ]
    },
    {
     "name": "stderr",
     "output_type": "stream",
     "text": [
      " 12%|█▏        | 107/884 [06:05<34:05,  2.63s/it]"
     ]
    },
    {
     "name": "stdout",
     "output_type": "stream",
     "text": [
      "You are a patient that has gone to do an interview with a psychologist. The psychologist will ask you a series of questions and you will answer them in a natural way:\n",
      "\n",
      "### Input:\n",
      "mhm .\n",
      " have you ever made pizza yourself .\n",
      "\n",
      "### Expected Response:\n"
     ]
    },
    {
     "name": "stderr",
     "output_type": "stream",
     "text": [
      " 13%|█▎        | 119/884 [06:47<48:10,  3.78s/it]"
     ]
    },
    {
     "name": "stdout",
     "output_type": "stream",
     "text": [
      "You are a patient that has gone to do an interview with a psychologist. The psychologist will ask you a series of questions and you will answer them in a natural way:\n",
      "\n",
      "### Input:\n",
      "mm .\n",
      "\n",
      "### Expected Response:\n"
     ]
    },
    {
     "name": "stderr",
     "output_type": "stream",
     "text": [
      " 14%|█▍        | 125/884 [07:15<1:00:06,  4.75s/it]"
     ]
    },
    {
     "name": "stdout",
     "output_type": "stream",
     "text": [
      "You are a patient that has gone to do an interview with a psychologist. The psychologist will ask you a series of questions and you will answer them in a natural way:\n",
      "\n",
      "### Input:\n",
      "mhm .\n",
      "\n",
      "### Expected Response:\n"
     ]
    },
    {
     "name": "stderr",
     "output_type": "stream",
     "text": [
      " 15%|█▍        | 129/884 [07:29<51:27,  4.09s/it]  "
     ]
    },
    {
     "name": "stdout",
     "output_type": "stream",
     "text": [
      "You are a patient that has gone to do an interview with a psychologist. The psychologist will ask you a series of questions and you will answer them in a natural way:\n",
      "\n",
      "### Input:\n",
      "that's good cool .\n",
      "\n",
      "### Expected Response:\n"
     ]
    },
    {
     "name": "stderr",
     "output_type": "stream",
     "text": [
      " 15%|█▌        | 134/884 [07:43<41:16,  3.30s/it]"
     ]
    },
    {
     "name": "stdout",
     "output_type": "stream",
     "text": [
      "You are a patient that has gone to do an interview with a psychologist. The psychologist will ask you a series of questions and you will answer them in a natural way:\n",
      "\n",
      "### Input:\n",
      "awesome .\n",
      "\n",
      "### Expected Response:\n"
     ]
    },
    {
     "name": "stderr",
     "output_type": "stream",
     "text": [
      " 15%|█▌        | 137/884 [07:49<33:52,  2.72s/it]"
     ]
    },
    {
     "name": "stdout",
     "output_type": "stream",
     "text": [
      "You are a patient that has gone to do an interview with a psychologist. The psychologist will ask you a series of questions and you will answer them in a natural way:\n",
      "\n",
      "### Input:\n",
      "for sure .\n",
      "\n",
      "### Expected Response:\n"
     ]
    },
    {
     "name": "stderr",
     "output_type": "stream",
     "text": [
      " 16%|█▌        | 140/884 [07:57<33:09,  2.67s/it]"
     ]
    },
    {
     "name": "stdout",
     "output_type": "stream",
     "text": [
      "You are a patient that has gone to do an interview with a psychologist. The psychologist will ask you a series of questions and you will answer them in a natural way:\n",
      "\n",
      "### Input:\n",
      "and what do you think it means .\n",
      "\n",
      "### Expected Response:\n",
      "You are a patient that has gone to do an interview with a psychologist. The psychologist will ask you a series of questions and you will answer them in a natural way:\n",
      "\n",
      "### Input:\n",
      "nice .\n",
      " and is it mostly like with your laptop .\n",
      " or are you also like [/] like playing the guitar and stuff .\n",
      "\n",
      "### Expected Response:\n"
     ]
    },
    {
     "name": "stderr",
     "output_type": "stream",
     "text": [
      " 17%|█▋        | 150/884 [08:34<56:48,  4.64s/it]"
     ]
    },
    {
     "name": "stdout",
     "output_type": "stream",
     "text": [
      "You are a patient that has gone to do an interview with a psychologist. The psychologist will ask you a series of questions and you will answer them in a natural way:\n",
      "\n",
      "### Input:\n",
      "okay .\n",
      " and then this is your last picture here .\n",
      " so same thing .\n",
      " tell me what you see in this one here .\n",
      "\n",
      "### Expected Response:\n"
     ]
    },
    {
     "name": "stderr",
     "output_type": "stream",
     "text": [
      " 18%|█▊        | 161/884 [09:12<45:52,  3.81s/it]"
     ]
    },
    {
     "name": "stdout",
     "output_type": "stream",
     "text": [
      "You are a patient that has gone to do an interview with a psychologist. The psychologist will ask you a series of questions and you will answer them in a natural way:\n",
      "\n",
      "### Input:\n",
      "nice .\n",
      "\n",
      "### Expected Response:\n"
     ]
    },
    {
     "name": "stderr",
     "output_type": "stream",
     "text": [
      " 19%|█▉        | 169/884 [09:40<45:21,  3.81s/it]"
     ]
    },
    {
     "name": "stdout",
     "output_type": "stream",
     "text": [
      "You are a patient that has gone to do an interview with a psychologist. The psychologist will ask you a series of questions and you will answer them in a natural way:\n",
      "\n",
      "### Input:\n",
      "mhm .\n",
      "\n",
      "### Expected Response:\n"
     ]
    },
    {
     "name": "stderr",
     "output_type": "stream",
     "text": [
      " 20%|██        | 177/884 [10:09<40:51,  3.47s/it]"
     ]
    },
    {
     "name": "stdout",
     "output_type": "stream",
     "text": [
      "You are a patient that has gone to do an interview with a psychologist. The psychologist will ask you a series of questions and you will answer them in a natural way:\n",
      "\n",
      "### Input:\n",
      "sleep deprived too .\n",
      " huh .\n",
      " on top of that .\n",
      "\n",
      "### Expected Response:\n"
     ]
    },
    {
     "name": "stderr",
     "output_type": "stream",
     "text": [
      " 21%|██        | 185/884 [10:35<40:42,  3.49s/it]"
     ]
    },
    {
     "name": "stdout",
     "output_type": "stream",
     "text": [
      "You are a patient that has gone to do an interview with a psychologist. The psychologist will ask you a series of questions and you will answer them in a natural way:\n",
      "\n",
      "### Input:\n",
      "hmm .\n",
      " so why do you think that's an important like moment in your life .\n",
      "\n",
      "### Expected Response:\n"
     ]
    },
    {
     "name": "stderr",
     "output_type": "stream",
     "text": [
      " 22%|██▏       | 193/884 [11:03<42:38,  3.70s/it]"
     ]
    },
    {
     "name": "stdout",
     "output_type": "stream",
     "text": [
      "You are a patient that has gone to do an interview with a psychologist. The psychologist will ask you a series of questions and you will answer them in a natural way:\n",
      "\n",
      "### Input:\n",
      "mhm .\n",
      "\n",
      "### Expected Response:\n"
     ]
    },
    {
     "name": "stderr",
     "output_type": "stream",
     "text": [
      " 22%|██▏       | 196/884 [11:12<38:46,  3.38s/it]"
     ]
    },
    {
     "name": "stdout",
     "output_type": "stream",
     "text": [
      "You are a patient that has gone to do an interview with a psychologist. The psychologist will ask you a series of questions and you will answer them in a natural way:\n",
      "\n",
      "### Input:\n",
      "cool .\n",
      " well thank you for sharing that one .\n",
      " okay .\n",
      " so last part here .\n",
      " &-um I have a one page story on this sheet .\n",
      " I want you to read each sentence aloud from beginning to end .\n",
      "\n",
      "### Expected Response:\n"
     ]
    },
    {
     "name": "stderr",
     "output_type": "stream",
     "text": [
      " 23%|██▎       | 203/884 [11:34<42:01,  3.70s/it]"
     ]
    },
    {
     "name": "stdout",
     "output_type": "stream",
     "text": [
      "You are a patient that has gone to do an interview with a psychologist. The psychologist will ask you a series of questions and you will answer them in a natural way:\n",
      "\n",
      "### Input:\n",
      "perfect .\n",
      " what do you think happened next .\n",
      "\n",
      "### Expected Response:\n"
     ]
    },
    {
     "name": "stderr",
     "output_type": "stream",
     "text": [
      " 24%|██▍       | 210/884 [11:56<37:52,  3.37s/it]"
     ]
    },
    {
     "name": "stdout",
     "output_type": "stream",
     "text": [
      "You are a patient that has gone to do an interview with a psychologist. The psychologist will ask you a series of questions and you will answer them in a natural way:\n",
      "\n",
      "### Input:\n",
      "everyone tells me a different story actually .\n",
      "\n",
      "### Expected Response:\n",
      "You are a patient that has gone to do an interview with a psychologist. The psychologist will ask you a series of questions and you will answer them in a natural way:\n",
      "\n",
      "### Input:\n",
      "yeah .\n",
      " yeah .\n",
      " awesome .\n",
      " okay .\n",
      " so we're gonna move on to the next section here .\n",
      " &-um so I'm going to ask you to think back and can you tell me a story about something important that happened to you in your life .\n",
      " so this could be from any time of your life .\n",
      " from when you were a child or more recently .\n",
      " and important is whatever you think it is to you .\n",
      " okay .\n",
      "\n",
      "### Expected Response:\n",
      "You are a patient that has gone to do an interview with a psychologist. The psychologist will ask you a series of questions and you will answer them in a natural way:\n",
      "\n",
      "### Input:\n",
      "oh wow .\n",
      "\n",
      "### Expected Response:\n"
     ]
    },
    {
     "name": "stderr",
     "output_type": "stream",
     "text": [
      " 25%|██▍       | 218/884 [12:13<27:27,  2.47s/it]"
     ]
    },
    {
     "name": "stdout",
     "output_type": "stream",
     "text": [
      "You are a patient that has gone to do an interview with a psychologist. The psychologist will ask you a series of questions and you will answer them in a natural way:\n",
      "\n",
      "### Input:\n",
      "awesome .\n",
      " I think so .\n",
      " same thing .\n",
      " here is a second picture .\n",
      " tell me what you see in that one there .\n",
      "\n",
      "### Expected Response:\n"
     ]
    },
    {
     "name": "stderr",
     "output_type": "stream",
     "text": [
      " 25%|██▌       | 225/884 [12:35<32:31,  2.96s/it]"
     ]
    },
    {
     "name": "stdout",
     "output_type": "stream",
     "text": [
      "You are a patient that has gone to do an interview with a psychologist. The psychologist will ask you a series of questions and you will answer them in a natural way:\n",
      "\n",
      "### Input:\n",
      "so you were at the dentist .\n",
      " and your teeth were falling out .\n",
      "\n",
      "### Expected Response:\n",
      "You are a patient that has gone to do an interview with a psychologist. The psychologist will ask you a series of questions and you will answer them in a natural way:\n",
      "\n",
      "### Input:\n",
      "mhm .\n",
      "\n",
      "### Expected Response:\n"
     ]
    },
    {
     "name": "stderr",
     "output_type": "stream",
     "text": [
      " 26%|██▌       | 229/884 [12:43<27:30,  2.52s/it]"
     ]
    },
    {
     "name": "stdout",
     "output_type": "stream",
     "text": [
      "You are a patient that has gone to do an interview with a psychologist. The psychologist will ask you a series of questions and you will answer them in a natural way:\n",
      "\n",
      "### Input:\n",
      "okay .\n",
      " so tell me a bit about your family then .\n",
      "\n",
      "### Expected Response:\n"
     ]
    },
    {
     "name": "stderr",
     "output_type": "stream",
     "text": [
      " 26%|██▋       | 234/884 [12:57<33:25,  3.09s/it]"
     ]
    },
    {
     "name": "stdout",
     "output_type": "stream",
     "text": [
      "You are a patient that has gone to do an interview with a psychologist. The psychologist will ask you a series of questions and you will answer them in a natural way:\n",
      "\n",
      "### Input:\n",
      "mm .\n",
      "\n",
      "### Expected Response:\n"
     ]
    },
    {
     "name": "stderr",
     "output_type": "stream",
     "text": [
      " 27%|██▋       | 237/884 [13:04<29:43,  2.76s/it]"
     ]
    },
    {
     "name": "stdout",
     "output_type": "stream",
     "text": [
      "You are a patient that has gone to do an interview with a psychologist. The psychologist will ask you a series of questions and you will answer them in a natural way:\n",
      "\n",
      "### Input:\n",
      "perfect .\n",
      " so now I'm gonna get you to tell me the story in your own words .\n",
      " so feel free to look it over again .\n",
      " and then when you start telling me the story I'm just gonna take that back .\n",
      " okay .\n",
      " perfect .\n",
      "\n",
      "### Expected Response:\n"
     ]
    },
    {
     "name": "stderr",
     "output_type": "stream",
     "text": [
      " 28%|██▊       | 245/884 [13:29<41:00,  3.85s/it]"
     ]
    },
    {
     "name": "stdout",
     "output_type": "stream",
     "text": [
      "You are a patient that has gone to do an interview with a psychologist. The psychologist will ask you a series of questions and you will answer them in a natural way:\n",
      "\n",
      "### Input:\n",
      "you wanna tell me a bit more about that ?\n",
      " &-like what your experience is ?\n",
      "\n",
      "### Expected Response:\n"
     ]
    },
    {
     "name": "stderr",
     "output_type": "stream",
     "text": [
      " 29%|██▊       | 254/884 [14:00<41:55,  3.99s/it]"
     ]
    },
    {
     "name": "stdout",
     "output_type": "stream",
     "text": [
      "You are a patient that has gone to do an interview with a psychologist. The psychologist will ask you a series of questions and you will answer them in a natural way:\n",
      "\n",
      "### Input:\n",
      "cool .\n",
      " supportive parents or ?\n",
      "\n",
      "### Expected Response:\n"
     ]
    },
    {
     "name": "stderr",
     "output_type": "stream",
     "text": [
      " 31%|███       | 271/884 [15:05<33:23,  3.27s/it]"
     ]
    },
    {
     "name": "stdout",
     "output_type": "stream",
     "text": [
      "You are a patient that has gone to do an interview with a psychologist. The psychologist will ask you a series of questions and you will answer them in a natural way:\n",
      "\n",
      "### Input:\n",
      "yeah .\n",
      "\n",
      "### Expected Response:\n"
     ]
    },
    {
     "name": "stderr",
     "output_type": "stream",
     "text": [
      " 31%|███▏      | 278/884 [15:25<30:15,  3.00s/it]"
     ]
    },
    {
     "name": "stdout",
     "output_type": "stream",
     "text": [
      "You are a patient that has gone to do an interview with a psychologist. The psychologist will ask you a series of questions and you will answer them in a natural way:\n",
      "\n",
      "### Input:\n",
      "yeah .\n",
      "\n",
      "### Expected Response:\n"
     ]
    },
    {
     "name": "stderr",
     "output_type": "stream",
     "text": [
      " 32%|███▏      | 283/884 [15:44<42:21,  4.23s/it]"
     ]
    },
    {
     "name": "stdout",
     "output_type": "stream",
     "text": [
      "You are a patient that has gone to do an interview with a psychologist. The psychologist will ask you a series of questions and you will answer them in a natural way:\n",
      "\n",
      "### Input:\n",
      "what do you think's happening in the photo .\n",
      "\n",
      "### Expected Response:\n"
     ]
    },
    {
     "name": "stderr",
     "output_type": "stream",
     "text": [
      " 34%|███▎      | 298/884 [16:42<37:41,  3.86s/it]"
     ]
    },
    {
     "name": "stdout",
     "output_type": "stream",
     "text": [
      "You are a patient that has gone to do an interview with a psychologist. The psychologist will ask you a series of questions and you will answer them in a natural way:\n",
      "\n",
      "### Input:\n",
      "that'll do it .\n",
      "\n",
      "### Expected Response:\n",
      "You are a patient that has gone to do an interview with a psychologist. The psychologist will ask you a series of questions and you will answer them in a natural way:\n",
      "\n",
      "### Input:\n",
      "yeah .\n",
      "\n",
      "### Expected Response:\n",
      "You are a patient that has gone to do an interview with a psychologist. The psychologist will ask you a series of questions and you will answer them in a natural way:\n",
      "\n",
      "### Input:\n",
      "alright .\n",
      " perfect .\n",
      " thank you .\n",
      " and then this is your third picture .\n",
      " so again tell me what you see in this picture .\n",
      "\n",
      "### Expected Response:\n",
      "You are a patient that has gone to do an interview with a psychologist. The psychologist will ask you a series of questions and you will answer them in a natural way:\n",
      "\n",
      "### Input:\n",
      "perfect .\n",
      " so I'm gonna get you to just look over the story one more time .\n",
      " and then I'm gonna take the sheet away from you .\n",
      " and you're gonna just tell me the story as best as you recall .\n",
      " okay .\n",
      "\n",
      "### Expected Response:\n",
      "You are a patient that has gone to do an interview with a psychologist. The psychologist will ask you a series of questions and you will answer them in a natural way:\n",
      "\n",
      "### Input:\n",
      "mhm .\n",
      "\n",
      "### Expected Response:\n"
     ]
    },
    {
     "name": "stderr",
     "output_type": "stream",
     "text": [
      " 35%|███▍      | 309/884 [17:09<36:58,  3.86s/it]"
     ]
    },
    {
     "name": "stdout",
     "output_type": "stream",
     "text": [
      "You are a patient that has gone to do an interview with a psychologist. The psychologist will ask you a series of questions and you will answer them in a natural way:\n",
      "\n",
      "### Input:\n",
      "okay .\n",
      " awesome .\n",
      " is there anything else that you can tell me about the story .\n",
      "\n",
      "### Expected Response:\n"
     ]
    },
    {
     "name": "stderr",
     "output_type": "stream",
     "text": [
      " 36%|███▌      | 315/884 [17:26<29:53,  3.15s/it]"
     ]
    },
    {
     "name": "stdout",
     "output_type": "stream",
     "text": [
      "You are a patient that has gone to do an interview with a psychologist. The psychologist will ask you a series of questions and you will answer them in a natural way:\n",
      "\n",
      "### Input:\n",
      "like avoid it .\n",
      "\n",
      "### Expected Response:\n"
     ]
    },
    {
     "name": "stderr",
     "output_type": "stream",
     "text": [
      " 38%|███▊      | 338/884 [18:38<27:02,  2.97s/it]"
     ]
    },
    {
     "name": "stdout",
     "output_type": "stream",
     "text": [
      "You are a patient that has gone to do an interview with a psychologist. The psychologist will ask you a series of questions and you will answer them in a natural way:\n",
      "\n",
      "### Input:\n",
      "mhm .\n",
      "\n",
      "### Expected Response:\n"
     ]
    },
    {
     "name": "stderr",
     "output_type": "stream",
     "text": [
      " 39%|███▉      | 343/884 [18:58<38:07,  4.23s/it]"
     ]
    },
    {
     "name": "stdout",
     "output_type": "stream",
     "text": [
      "You are a patient that has gone to do an interview with a psychologist. The psychologist will ask you a series of questions and you will answer them in a natural way:\n",
      "\n",
      "### Input:\n",
      "okay .\n",
      " and luckily it was &-uh while you were fishing and not like on land or like by the .\n",
      " I don't know by the beach .\n",
      " I guess not beach but I don't know .\n",
      " sure .\n",
      " so what about this experience was like important for you or like influential .\n",
      "\n",
      "### Expected Response:\n",
      "You are a patient that has gone to do an interview with a psychologist. The psychologist will ask you a series of questions and you will answer them in a natural way:\n",
      "\n",
      "### Input:\n",
      "great .\n",
      " perfect .\n",
      " great .\n",
      " so we'll move on .\n",
      " &-um so next I'm gonna give you some pictures from a story .\n",
      " you can take as long as you need to browse the pictures .\n",
      " and after you've seen them all in order I want you to tell me the story in your own words .\n",
      " &-um so it starts at the top corner there and goes to the bottom corner .\n",
      "\n",
      "### Expected Response:\n"
     ]
    },
    {
     "name": "stderr",
     "output_type": "stream",
     "text": [
      " 39%|███▉      | 346/884 [19:04<25:41,  2.87s/it]"
     ]
    },
    {
     "name": "stdout",
     "output_type": "stream",
     "text": [
      "You are a patient that has gone to do an interview with a psychologist. The psychologist will ask you a series of questions and you will answer them in a natural way:\n",
      "\n",
      "### Input:\n",
      "okay .\n",
      " and do you ever &-like order that at restaurants ?\n",
      "\n",
      "### Expected Response:\n"
     ]
    },
    {
     "name": "stderr",
     "output_type": "stream",
     "text": [
      " 40%|███▉      | 350/884 [19:14<26:55,  3.02s/it]"
     ]
    },
    {
     "name": "stdout",
     "output_type": "stream",
     "text": [
      "You are a patient that has gone to do an interview with a psychologist. The psychologist will ask you a series of questions and you will answer them in a natural way:\n",
      "\n",
      "### Input:\n",
      "mhm .\n",
      "\n",
      "### Expected Response:\n"
     ]
    },
    {
     "name": "stderr",
     "output_type": "stream",
     "text": [
      " 40%|███▉      | 352/884 [19:17<21:17,  2.40s/it]"
     ]
    },
    {
     "name": "stdout",
     "output_type": "stream",
     "text": [
      "You are a patient that has gone to do an interview with a psychologist. The psychologist will ask you a series of questions and you will answer them in a natural way:\n",
      "\n",
      "### Input:\n",
      "okay .\n",
      " &-um I just want you to think back and think of a time in your life where something really important happened .\n",
      " so it can be anything from like when you were a kid until now .\n",
      " and your definition of important can be whatever you want .\n",
      " I just want you to just tell me about something important or significant that's happened to you .\n",
      "\n",
      "### Expected Response:\n"
     ]
    },
    {
     "name": "stderr",
     "output_type": "stream",
     "text": [
      " 40%|████      | 357/884 [19:34<29:20,  3.34s/it]"
     ]
    },
    {
     "name": "stdout",
     "output_type": "stream",
     "text": [
      "You are a patient that has gone to do an interview with a psychologist. The psychologist will ask you a series of questions and you will answer them in a natural way:\n",
      "\n",
      "### Input:\n",
      "mhm .\n",
      "\n",
      "### Expected Response:\n"
     ]
    },
    {
     "name": "stderr",
     "output_type": "stream",
     "text": [
      " 41%|████      | 359/884 [19:37<23:34,  2.70s/it]"
     ]
    },
    {
     "name": "stdout",
     "output_type": "stream",
     "text": [
      "You are a patient that has gone to do an interview with a psychologist. The psychologist will ask you a series of questions and you will answer them in a natural way:\n",
      "\n",
      "### Input:\n",
      "perfect .\n",
      " okay .\n",
      " so move on the next section .\n",
      " you can answer it as [/] as much as you want to .\n",
      "\n",
      "### Expected Response:\n"
     ]
    },
    {
     "name": "stderr",
     "output_type": "stream",
     "text": [
      " 41%|████▏     | 366/884 [20:01<31:27,  3.64s/it]"
     ]
    },
    {
     "name": "stdout",
     "output_type": "stream",
     "text": [
      "You are a patient that has gone to do an interview with a psychologist. The psychologist will ask you a series of questions and you will answer them in a natural way:\n",
      "\n",
      "### Input:\n",
      "okay .\n",
      " so we got two little sections left here .\n",
      "\n",
      "### Expected Response:\n"
     ]
    },
    {
     "name": "stderr",
     "output_type": "stream",
     "text": [
      " 42%|████▏     | 368/884 [20:05<25:09,  2.93s/it]"
     ]
    },
    {
     "name": "stdout",
     "output_type": "stream",
     "text": [
      "You are a patient that has gone to do an interview with a psychologist. The psychologist will ask you a series of questions and you will answer them in a natural way:\n",
      "\n",
      "### Input:\n",
      "mhm .\n",
      "\n",
      "### Expected Response:\n"
     ]
    },
    {
     "name": "stderr",
     "output_type": "stream",
     "text": [
      " 42%|████▏     | 370/884 [20:07<20:02,  2.34s/it]"
     ]
    },
    {
     "name": "stdout",
     "output_type": "stream",
     "text": [
      "You are a patient that has gone to do an interview with a psychologist. The psychologist will ask you a series of questions and you will answer them in a natural way:\n",
      "\n",
      "### Input:\n",
      "moment of innocence .\n",
      " nice .\n",
      "\n",
      "### Expected Response:\n",
      "You are a patient that has gone to do an interview with a psychologist. The psychologist will ask you a series of questions and you will answer them in a natural way:\n",
      "\n",
      "### Input:\n",
      "yeah .\n",
      "\n",
      "### Expected Response:\n"
     ]
    },
    {
     "name": "stderr",
     "output_type": "stream",
     "text": [
      " 42%|████▏     | 374/884 [20:16<18:50,  2.22s/it]"
     ]
    },
    {
     "name": "stdout",
     "output_type": "stream",
     "text": [
      "You are a patient that has gone to do an interview with a psychologist. The psychologist will ask you a series of questions and you will answer them in a natural way:\n",
      "\n",
      "### Input:\n",
      "okay .\n",
      " great .\n",
      " so then this is your second picture .\n",
      " tell me what you see in this one .\n",
      "\n",
      "### Expected Response:\n",
      "You are a patient that has gone to do an interview with a psychologist. The psychologist will ask you a series of questions and you will answer them in a natural way:\n",
      "\n",
      "### Input:\n",
      "mhm .\n",
      "\n",
      "### Expected Response:\n"
     ]
    },
    {
     "name": "stderr",
     "output_type": "stream",
     "text": [
      " 43%|████▎     | 377/884 [20:19<15:13,  1.80s/it]"
     ]
    },
    {
     "name": "stdout",
     "output_type": "stream",
     "text": [
      "You are a patient that has gone to do an interview with a psychologist. The psychologist will ask you a series of questions and you will answer them in a natural way:\n",
      "\n",
      "### Input:\n",
      "yeah so you +...\n",
      "\n",
      "### Expected Response:\n"
     ]
    },
    {
     "name": "stderr",
     "output_type": "stream",
     "text": [
      " 43%|████▎     | 381/884 [20:29<18:46,  2.24s/it]"
     ]
    },
    {
     "name": "stdout",
     "output_type": "stream",
     "text": [
      "You are a patient that has gone to do an interview with a psychologist. The psychologist will ask you a series of questions and you will answer them in a natural way:\n",
      "\n",
      "### Input:\n",
      "mhm .\n",
      "\n",
      "### Expected Response:\n"
     ]
    },
    {
     "name": "stderr",
     "output_type": "stream",
     "text": [
      " 43%|████▎     | 383/884 [20:32<17:16,  2.07s/it]"
     ]
    },
    {
     "name": "stdout",
     "output_type": "stream",
     "text": [
      "You are a patient that has gone to do an interview with a psychologist. The psychologist will ask you a series of questions and you will answer them in a natural way:\n",
      "\n",
      "### Input:\n",
      "mhm .\n",
      " and then ?\n",
      "\n",
      "### Expected Response:\n",
      "You are a patient that has gone to do an interview with a psychologist. The psychologist will ask you a series of questions and you will answer them in a natural way:\n",
      "\n",
      "### Input:\n",
      "&-um the question I have for you is do you think you have a mental illness .\n",
      " if so .\n",
      " what do you think it is .\n",
      "\n",
      "### Expected Response:\n"
     ]
    },
    {
     "name": "stderr",
     "output_type": "stream",
     "text": [
      " 44%|████▍     | 393/884 [21:04<27:43,  3.39s/it]"
     ]
    },
    {
     "name": "stdout",
     "output_type": "stream",
     "text": [
      "You are a patient that has gone to do an interview with a psychologist. The psychologist will ask you a series of questions and you will answer them in a natural way:\n",
      "\n",
      "### Input:\n",
      "mhm .\n",
      "\n",
      "### Expected Response:\n"
     ]
    },
    {
     "name": "stderr",
     "output_type": "stream",
     "text": [
      " 45%|████▍     | 397/884 [21:16<26:55,  3.32s/it]"
     ]
    },
    {
     "name": "stdout",
     "output_type": "stream",
     "text": [
      "You are a patient that has gone to do an interview with a psychologist. The psychologist will ask you a series of questions and you will answer them in a natural way:\n",
      "\n",
      "### Input:\n",
      "mhm .\n",
      "\n",
      "### Expected Response:\n"
     ]
    },
    {
     "name": "stderr",
     "output_type": "stream",
     "text": [
      " 45%|████▌     | 401/884 [21:29<29:10,  3.62s/it]"
     ]
    },
    {
     "name": "stdout",
     "output_type": "stream",
     "text": [
      "You are a patient that has gone to do an interview with a psychologist. The psychologist will ask you a series of questions and you will answer them in a natural way:\n",
      "\n",
      "### Input:\n",
      "yeah .\n",
      "\n",
      "### Expected Response:\n"
     ]
    },
    {
     "name": "stderr",
     "output_type": "stream",
     "text": [
      " 46%|████▌     | 403/884 [21:32<21:30,  2.68s/it]"
     ]
    },
    {
     "name": "stdout",
     "output_type": "stream",
     "text": [
      "You are a patient that has gone to do an interview with a psychologist. The psychologist will ask you a series of questions and you will answer them in a natural way:\n",
      "\n",
      "### Input:\n",
      "mhm .\n",
      "\n",
      "### Expected Response:\n"
     ]
    },
    {
     "name": "stderr",
     "output_type": "stream",
     "text": [
      " 46%|████▋     | 410/884 [21:56<26:32,  3.36s/it]"
     ]
    },
    {
     "name": "stdout",
     "output_type": "stream",
     "text": [
      "You are a patient that has gone to do an interview with a psychologist. The psychologist will ask you a series of questions and you will answer them in a natural way:\n",
      "\n",
      "### Input:\n",
      "okay .\n",
      " &-um so when you were in school to become a teacher what was your favorite like subject or what did you specialize in .\n",
      "\n",
      "### Expected Response:\n"
     ]
    },
    {
     "name": "stderr",
     "output_type": "stream",
     "text": [
      " 47%|████▋     | 416/884 [22:14<25:21,  3.25s/it]"
     ]
    },
    {
     "name": "stdout",
     "output_type": "stream",
     "text": [
      "You are a patient that has gone to do an interview with a psychologist. The psychologist will ask you a series of questions and you will answer them in a natural way:\n",
      "\n",
      "### Input:\n",
      "wow .\n",
      "\n",
      "### Expected Response:\n",
      "You are a patient that has gone to do an interview with a psychologist. The psychologist will ask you a series of questions and you will answer them in a natural way:\n",
      "\n",
      "### Input:\n",
      "oh that's really good .\n",
      " good for you .\n",
      " okay .\n",
      " so we'll move on to the next section .\n",
      " okay .\n",
      " this is the last section that's about you .\n",
      " so next I'd like you to talk about a few things related to mental health .\n",
      " &-um again you can use any of your life experience .\n",
      " and you don't have to say anyone's names or anything .\n",
      " okay .\n",
      " the question I have for you is do you think you have a mental illness .\n",
      " if so what do you think it is .\n",
      "\n",
      "### Expected Response:\n"
     ]
    },
    {
     "name": "stderr",
     "output_type": "stream",
     "text": [
      " 48%|████▊     | 422/884 [22:30<24:50,  3.23s/it]"
     ]
    },
    {
     "name": "stdout",
     "output_type": "stream",
     "text": [
      "You are a patient that has gone to do an interview with a psychologist. The psychologist will ask you a series of questions and you will answer them in a natural way:\n",
      "\n",
      "### Input:\n",
      "yeah .\n",
      " &-um okay .\n",
      " and &-um where would you say &-like all of this kind of stated ?\n",
      " &-like your mental health ?\n",
      " &-um the psychosis , all of this ?\n",
      "\n",
      "### Expected Response:\n",
      "You are a patient that has gone to do an interview with a psychologist. The psychologist will ask you a series of questions and you will answer them in a natural way:\n",
      "\n",
      "### Input:\n",
      "you would think right .\n",
      " that'd be a smarter decision .\n",
      " but that .\n",
      "\n",
      "### Expected Response:\n"
     ]
    },
    {
     "name": "stderr",
     "output_type": "stream",
     "text": [
      " 50%|████▉     | 441/884 [23:34<32:28,  4.40s/it]"
     ]
    },
    {
     "name": "stdout",
     "output_type": "stream",
     "text": [
      "You are a patient that has gone to do an interview with a psychologist. The psychologist will ask you a series of questions and you will answer them in a natural way:\n",
      "\n",
      "### Input:\n",
      "okay .\n",
      " &-um did you wanna tell me more about your experience or how it started .\n",
      "\n",
      "### Expected Response:\n"
     ]
    },
    {
     "name": "stderr",
     "output_type": "stream",
     "text": [
      " 51%|█████     | 451/884 [24:12<30:46,  4.26s/it]"
     ]
    },
    {
     "name": "stdout",
     "output_type": "stream",
     "text": [
      "You are a patient that has gone to do an interview with a psychologist. The psychologist will ask you a series of questions and you will answer them in a natural way:\n",
      "\n",
      "### Input:\n",
      "yeah you're very .\n",
      "\n",
      "### Expected Response:\n"
     ]
    },
    {
     "name": "stderr",
     "output_type": "stream",
     "text": [
      " 52%|█████▏    | 456/884 [24:24<22:59,  3.22s/it]"
     ]
    },
    {
     "name": "stdout",
     "output_type": "stream",
     "text": [
      "You are a patient that has gone to do an interview with a psychologist. The psychologist will ask you a series of questions and you will answer them in a natural way:\n",
      "\n",
      "### Input:\n",
      "okay .\n",
      " &-uh since starting treatment .\n",
      " how has your life changed .\n",
      "\n",
      "### Expected Response:\n"
     ]
    },
    {
     "name": "stderr",
     "output_type": "stream",
     "text": [
      " 52%|█████▏    | 459/884 [24:31<20:12,  2.85s/it]"
     ]
    },
    {
     "name": "stdout",
     "output_type": "stream",
     "text": [
      "You are a patient that has gone to do an interview with a psychologist. The psychologist will ask you a series of questions and you will answer them in a natural way:\n",
      "\n",
      "### Input:\n",
      "mhm .\n",
      " so there's like a lot of growth when that happened of you learning .\n",
      "\n",
      "### Expected Response:\n"
     ]
    },
    {
     "name": "stderr",
     "output_type": "stream",
     "text": [
      " 52%|█████▏    | 461/884 [24:34<15:58,  2.27s/it]"
     ]
    },
    {
     "name": "stdout",
     "output_type": "stream",
     "text": [
      "You are a patient that has gone to do an interview with a psychologist. The psychologist will ask you a series of questions and you will answer them in a natural way:\n",
      "\n",
      "### Input:\n",
      "okay .\n",
      " &-um and just yeah .\n",
      " <try to> [/] try to keep thinking of things to say .\n",
      " but if you run outta things &-um that's okay too .\n",
      "\n",
      "### Expected Response:\n"
     ]
    },
    {
     "name": "stderr",
     "output_type": "stream",
     "text": [
      " 53%|█████▎    | 468/884 [25:00<24:24,  3.52s/it]"
     ]
    },
    {
     "name": "stdout",
     "output_type": "stream",
     "text": [
      "You are a patient that has gone to do an interview with a psychologist. The psychologist will ask you a series of questions and you will answer them in a natural way:\n",
      "\n",
      "### Input:\n",
      "yeah .\n",
      "\n",
      "### Expected Response:\n"
     ]
    },
    {
     "name": "stderr",
     "output_type": "stream",
     "text": [
      " 53%|█████▎    | 472/884 [25:09<20:28,  2.98s/it]"
     ]
    },
    {
     "name": "stdout",
     "output_type": "stream",
     "text": [
      "You are a patient that has gone to do an interview with a psychologist. The psychologist will ask you a series of questions and you will answer them in a natural way:\n",
      "\n",
      "### Input:\n",
      "great .\n",
      " perfect .\n",
      " okay .\n",
      " alright .\n",
      " so next section here .\n",
      " so I'm going to show you some pictures from a story .\n",
      " you can take as long as you need to browse the pictures .\n",
      " and after you've seen them all in order I want you to tell me the story in your own words .\n",
      " so it starts at the top here and goes to the bottom there .\n",
      " so take a moment and look it over first .\n",
      " and then when you're ready tell me the story .\n",
      "\n",
      "### Expected Response:\n"
     ]
    },
    {
     "name": "stderr",
     "output_type": "stream",
     "text": [
      " 54%|█████▍    | 476/884 [25:21<21:38,  3.18s/it]"
     ]
    },
    {
     "name": "stdout",
     "output_type": "stream",
     "text": [
      "You are a patient that has gone to do an interview with a psychologist. The psychologist will ask you a series of questions and you will answer them in a natural way:\n",
      "\n",
      "### Input:\n",
      "mhm .\n",
      " do you have any that you've remembered before .\n",
      "\n",
      "### Expected Response:\n"
     ]
    },
    {
     "name": "stderr",
     "output_type": "stream",
     "text": [
      " 55%|█████▌    | 490/884 [26:07<23:27,  3.57s/it]"
     ]
    },
    {
     "name": "stdout",
     "output_type": "stream",
     "text": [
      "You are a patient that has gone to do an interview with a psychologist. The psychologist will ask you a series of questions and you will answer them in a natural way:\n",
      "\n",
      "### Input:\n",
      "what happens after a drinks .\n",
      "\n",
      "### Expected Response:\n"
     ]
    },
    {
     "name": "stderr",
     "output_type": "stream",
     "text": [
      " 56%|█████▋    | 498/884 [26:27<16:53,  2.63s/it]"
     ]
    },
    {
     "name": "stdout",
     "output_type": "stream",
     "text": [
      "You are a patient that has gone to do an interview with a psychologist. The psychologist will ask you a series of questions and you will answer them in a natural way:\n",
      "\n",
      "### Input:\n",
      "alright .\n",
      " so we'll move on .\n",
      " &-um so thinking back can you tell me a story about something important that happened to you in your life .\n",
      " it can be from any time of your life .\n",
      " from when you were a child or more recently .\n",
      " and again you don't have to use anyone's names in describing this event .\n",
      "\n",
      "### Expected Response:\n"
     ]
    },
    {
     "name": "stderr",
     "output_type": "stream",
     "text": [
      " 57%|█████▋    | 500/884 [26:30<13:28,  2.11s/it]"
     ]
    },
    {
     "name": "stdout",
     "output_type": "stream",
     "text": [
      "You are a patient that has gone to do an interview with a psychologist. The psychologist will ask you a series of questions and you will answer them in a natural way:\n",
      "\n",
      "### Input:\n",
      "okay .\n",
      " so when you are sleeping and dreaming do you ever have any sort of like silly dreams .\n",
      " things that like .\n",
      " don't make sense .\n",
      "\n",
      "### Expected Response:\n"
     ]
    },
    {
     "name": "stderr",
     "output_type": "stream",
     "text": [
      " 57%|█████▋    | 506/884 [26:46<16:56,  2.69s/it]"
     ]
    },
    {
     "name": "stdout",
     "output_type": "stream",
     "text": [
      "You are a patient that has gone to do an interview with a psychologist. The psychologist will ask you a series of questions and you will answer them in a natural way:\n",
      "\n",
      "### Input:\n",
      "I mean if you wanna look it over one more time you can .\n",
      " &-um but then you're gonna say the story in your own words .\n",
      "\n",
      "### Expected Response:\n"
     ]
    },
    {
     "name": "stderr",
     "output_type": "stream",
     "text": [
      " 59%|█████▊    | 518/884 [27:20<22:04,  3.62s/it]"
     ]
    },
    {
     "name": "stdout",
     "output_type": "stream",
     "text": [
      "You are a patient that has gone to do an interview with a psychologist. The psychologist will ask you a series of questions and you will answer them in a natural way:\n",
      "\n",
      "### Input:\n",
      "oh a forensic phd would be really cool though .\n",
      "\n",
      "### Expected Response:\n"
     ]
    },
    {
     "name": "stderr",
     "output_type": "stream",
     "text": [
      " 59%|█████▉    | 524/884 [27:41<21:29,  3.58s/it]"
     ]
    },
    {
     "name": "stdout",
     "output_type": "stream",
     "text": [
      "You are a patient that has gone to do an interview with a psychologist. The psychologist will ask you a series of questions and you will answer them in a natural way:\n",
      "\n",
      "### Input:\n",
      "mhm .\n",
      " and what do you normally serve .\n",
      " steak with .\n",
      "\n",
      "### Expected Response:\n"
     ]
    },
    {
     "name": "stderr",
     "output_type": "stream",
     "text": [
      " 60%|█████▉    | 526/884 [27:44<15:36,  2.62s/it]"
     ]
    },
    {
     "name": "stdout",
     "output_type": "stream",
     "text": [
      "You are a patient that has gone to do an interview with a psychologist. The psychologist will ask you a series of questions and you will answer them in a natural way:\n",
      "\n",
      "### Input:\n",
      "you can look at it if you want to .\n",
      "\n",
      "### Expected Response:\n"
     ]
    },
    {
     "name": "stderr",
     "output_type": "stream",
     "text": [
      " 60%|█████▉    | 528/884 [27:46<12:32,  2.11s/it]"
     ]
    },
    {
     "name": "stdout",
     "output_type": "stream",
     "text": [
      "You are a patient that has gone to do an interview with a psychologist. The psychologist will ask you a series of questions and you will answer them in a natural way:\n",
      "\n",
      "### Input:\n",
      "yeah .\n",
      "\n",
      "### Expected Response:\n"
     ]
    },
    {
     "name": "stderr",
     "output_type": "stream",
     "text": [
      " 60%|██████    | 533/884 [28:03<18:42,  3.20s/it]"
     ]
    },
    {
     "name": "stdout",
     "output_type": "stream",
     "text": [
      "You are a patient that has gone to do an interview with a psychologist. The psychologist will ask you a series of questions and you will answer them in a natural way:\n",
      "\n",
      "### Input:\n",
      "&-um yeah .\n",
      " about &-um mental health illness .\n",
      " and if you don't think that you have women that's fine too .\n",
      "\n",
      "### Expected Response:\n"
     ]
    },
    {
     "name": "stderr",
     "output_type": "stream",
     "text": [
      " 61%|██████    | 538/884 [28:21<22:57,  3.98s/it]"
     ]
    },
    {
     "name": "stdout",
     "output_type": "stream",
     "text": [
      "You are a patient that has gone to do an interview with a psychologist. The psychologist will ask you a series of questions and you will answer them in a natural way:\n",
      "\n",
      "### Input:\n",
      "yeah .\n",
      " wow oh my god .\n",
      " okay .\n",
      "\n",
      "### Expected Response:\n"
     ]
    },
    {
     "name": "stderr",
     "output_type": "stream",
     "text": [
      " 61%|██████▏   | 543/884 [28:34<17:16,  3.04s/it]"
     ]
    },
    {
     "name": "stdout",
     "output_type": "stream",
     "text": [
      "You are a patient that has gone to do an interview with a psychologist. The psychologist will ask you a series of questions and you will answer them in a natural way:\n",
      "\n",
      "### Input:\n",
      "pitcher is like something that contains water right.\n",
      "\n",
      "### Expected Response:\n"
     ]
    },
    {
     "name": "stderr",
     "output_type": "stream",
     "text": [
      " 65%|██████▍   | 574/884 [30:13<15:00,  2.90s/it]"
     ]
    },
    {
     "name": "stdout",
     "output_type": "stream",
     "text": [
      "You are a patient that has gone to do an interview with a psychologist. The psychologist will ask you a series of questions and you will answer them in a natural way:\n",
      "\n",
      "### Input:\n",
      "perfect .\n",
      " it's a silly story .\n",
      " huh .\n",
      " doesn't make a lot of sense .\n",
      "\n",
      "### Expected Response:\n"
     ]
    },
    {
     "name": "stderr",
     "output_type": "stream",
     "text": [
      " 65%|██████▌   | 577/884 [30:20<13:17,  2.60s/it]"
     ]
    },
    {
     "name": "stdout",
     "output_type": "stream",
     "text": [
      "You are a patient that has gone to do an interview with a psychologist. The psychologist will ask you a series of questions and you will answer them in a natural way:\n",
      "\n",
      "### Input:\n",
      "yeah .\n",
      " it's a dream to live out there now .\n",
      "\n",
      "### Expected Response:\n"
     ]
    },
    {
     "name": "stderr",
     "output_type": "stream",
     "text": [
      " 68%|██████▊   | 598/884 [31:37<15:54,  3.34s/it]"
     ]
    },
    {
     "name": "stdout",
     "output_type": "stream",
     "text": [
      "You are a patient that has gone to do an interview with a psychologist. The psychologist will ask you a series of questions and you will answer them in a natural way:\n",
      "\n",
      "### Input:\n",
      "perfect .\n",
      " good job .\n",
      " it's a weird story huh .\n",
      "\n",
      "### Expected Response:\n"
     ]
    },
    {
     "name": "stderr",
     "output_type": "stream",
     "text": [
      " 69%|██████▉   | 610/884 [32:22<20:56,  4.59s/it]"
     ]
    },
    {
     "name": "stdout",
     "output_type": "stream",
     "text": [
      "You are a patient that has gone to do an interview with a psychologist. The psychologist will ask you a series of questions and you will answer them in a natural way:\n",
      "\n",
      "### Input:\n",
      "mm .\n",
      " they'd be shocked every time .\n",
      "\n",
      "### Expected Response:\n"
     ]
    },
    {
     "name": "stderr",
     "output_type": "stream",
     "text": [
      " 70%|███████   | 619/884 [33:01<19:56,  4.51s/it]"
     ]
    },
    {
     "name": "stdout",
     "output_type": "stream",
     "text": [
      "You are a patient that has gone to do an interview with a psychologist. The psychologist will ask you a series of questions and you will answer them in a natural way:\n",
      "\n",
      "### Input:\n",
      "yeah .\n",
      "\n",
      "### Expected Response:\n"
     ]
    },
    {
     "name": "stderr",
     "output_type": "stream",
     "text": [
      " 70%|███████   | 621/884 [33:06<15:52,  3.62s/it]"
     ]
    },
    {
     "name": "stdout",
     "output_type": "stream",
     "text": [
      "You are a patient that has gone to do an interview with a psychologist. The psychologist will ask you a series of questions and you will answer them in a natural way:\n",
      "\n",
      "### Input:\n",
      "no .\n",
      " and is there anything now that's working for you ?\n",
      "\n",
      "### Expected Response:\n",
      "You are a patient that has gone to do an interview with a psychologist. The psychologist will ask you a series of questions and you will answer them in a natural way:\n",
      "\n",
      "### Input:\n",
      "no ?\n",
      " so why is the office or criminal minds ?\n",
      " why are they your favorite shows ?\n",
      "\n",
      "### Expected Response:\n",
      "You are a patient that has gone to do an interview with a psychologist. The psychologist will ask you a series of questions and you will answer them in a natural way:\n",
      "\n",
      "### Input:\n",
      "yeah .\n",
      "\n",
      "### Expected Response:\n"
     ]
    },
    {
     "name": "stderr",
     "output_type": "stream",
     "text": [
      " 71%|███████   | 626/884 [33:14<10:32,  2.45s/it]"
     ]
    },
    {
     "name": "stdout",
     "output_type": "stream",
     "text": [
      "You are a patient that has gone to do an interview with a psychologist. The psychologist will ask you a series of questions and you will answer them in a natural way:\n",
      "\n",
      "### Input:\n",
      "so with all these experiences do you think you're still gonna continue to smoke weeded .\n",
      "\n",
      "### Expected Response:\n",
      "You are a patient that has gone to do an interview with a psychologist. The psychologist will ask you a series of questions and you will answer them in a natural way:\n",
      "\n",
      "### Input:\n",
      "let's look at comic strips .\n",
      " so it works &-like from the top to the bottom corner there .\n",
      "\n",
      "### Expected Response:\n"
     ]
    },
    {
     "name": "stderr",
     "output_type": "stream",
     "text": [
      " 72%|███████▏  | 633/884 [33:33<12:17,  2.94s/it]"
     ]
    },
    {
     "name": "stdout",
     "output_type": "stream",
     "text": [
      "You are a patient that has gone to do an interview with a psychologist. The psychologist will ask you a series of questions and you will answer them in a natural way:\n",
      "\n",
      "### Input:\n",
      "yeah .\n",
      "\n",
      "### Expected Response:\n",
      "You are a patient that has gone to do an interview with a psychologist. The psychologist will ask you a series of questions and you will answer them in a natural way:\n",
      "\n",
      "### Input:\n",
      "wow .\n",
      " and did you interact with your family during those moments .\n",
      "\n",
      "### Expected Response:\n"
     ]
    },
    {
     "name": "stderr",
     "output_type": "stream",
     "text": [
      " 73%|███████▎  | 643/884 [34:05<16:17,  4.06s/it]"
     ]
    },
    {
     "name": "stdout",
     "output_type": "stream",
     "text": [
      "You are a patient that has gone to do an interview with a psychologist. The psychologist will ask you a series of questions and you will answer them in a natural way:\n",
      "\n",
      "### Input:\n",
      "nice .\n",
      " what'd you think of that story .\n",
      "\n",
      "### Expected Response:\n"
     ]
    },
    {
     "name": "stderr",
     "output_type": "stream",
     "text": [
      " 73%|███████▎  | 647/884 [34:14<11:28,  2.91s/it]"
     ]
    },
    {
     "name": "stdout",
     "output_type": "stream",
     "text": [
      "You are a patient that has gone to do an interview with a psychologist. The psychologist will ask you a series of questions and you will answer them in a natural way:\n",
      "\n",
      "### Input:\n",
      "mhm .\n",
      "\n",
      "### Expected Response:\n"
     ]
    },
    {
     "name": "stderr",
     "output_type": "stream",
     "text": [
      " 74%|███████▍  | 656/884 [34:55<15:26,  4.07s/it]"
     ]
    },
    {
     "name": "stdout",
     "output_type": "stream",
     "text": [
      "You are a patient that has gone to do an interview with a psychologist. The psychologist will ask you a series of questions and you will answer them in a natural way:\n",
      "\n",
      "### Input:\n",
      "yeah .\n",
      " it's a weird little story .\n",
      " right .\n",
      " and &-uh there's always many different versions of it that I hear .\n",
      " so .\n",
      "\n",
      "### Expected Response:\n"
     ]
    },
    {
     "name": "stderr",
     "output_type": "stream",
     "text": [
      " 75%|███████▍  | 661/884 [35:14<14:11,  3.82s/it]"
     ]
    },
    {
     "name": "stdout",
     "output_type": "stream",
     "text": [
      "You are a patient that has gone to do an interview with a psychologist. The psychologist will ask you a series of questions and you will answer them in a natural way:\n",
      "\n",
      "### Input:\n",
      "mhm .\n",
      "\n",
      "### Expected Response:\n"
     ]
    },
    {
     "name": "stderr",
     "output_type": "stream",
     "text": [
      " 75%|███████▌  | 665/884 [35:25<11:40,  3.20s/it]"
     ]
    },
    {
     "name": "stdout",
     "output_type": "stream",
     "text": [
      "You are a patient that has gone to do an interview with a psychologist. The psychologist will ask you a series of questions and you will answer them in a natural way:\n",
      "\n",
      "### Input:\n",
      "okay .\n",
      "\n",
      "### Expected Response:\n"
     ]
    },
    {
     "name": "stderr",
     "output_type": "stream",
     "text": [
      " 75%|███████▌  | 667/884 [35:31<11:27,  3.17s/it]"
     ]
    },
    {
     "name": "stdout",
     "output_type": "stream",
     "text": [
      "You are a patient that has gone to do an interview with a psychologist. The psychologist will ask you a series of questions and you will answer them in a natural way:\n",
      "\n",
      "### Input:\n",
      "yeah .\n",
      "\n",
      "### Expected Response:\n",
      "You are a patient that has gone to do an interview with a psychologist. The psychologist will ask you a series of questions and you will answer them in a natural way:\n",
      "\n",
      "### Input:\n",
      "&-um I get different answers all the time .\n",
      " but +...\n",
      "\n",
      "### Expected Response:\n"
     ]
    },
    {
     "name": "stderr",
     "output_type": "stream",
     "text": [
      " 76%|███████▋  | 675/884 [35:52<10:41,  3.07s/it]"
     ]
    },
    {
     "name": "stdout",
     "output_type": "stream",
     "text": [
      "You are a patient that has gone to do an interview with a psychologist. The psychologist will ask you a series of questions and you will answer them in a natural way:\n",
      "\n",
      "### Input:\n",
      "okay .\n",
      " &-um this is your second picture .\n",
      "\n",
      "### Expected Response:\n"
     ]
    },
    {
     "name": "stderr",
     "output_type": "stream",
     "text": [
      " 77%|███████▋  | 677/884 [35:57<09:34,  2.77s/it]"
     ]
    },
    {
     "name": "stdout",
     "output_type": "stream",
     "text": [
      "You are a patient that has gone to do an interview with a psychologist. The psychologist will ask you a series of questions and you will answer them in a natural way:\n",
      "\n",
      "### Input:\n",
      "I would like you to talk about a few things related to your daily life .\n",
      " &-uh you don't have to use anyone's names when describing this event or things okay ?\n",
      "\n",
      "### Expected Response:\n"
     ]
    },
    {
     "name": "stderr",
     "output_type": "stream",
     "text": [
      " 78%|███████▊  | 689/884 [36:34<13:22,  4.11s/it]"
     ]
    },
    {
     "name": "stdout",
     "output_type": "stream",
     "text": [
      "You are a patient that has gone to do an interview with a psychologist. The psychologist will ask you a series of questions and you will answer them in a natural way:\n",
      "\n",
      "### Input:\n",
      "mhm .\n",
      "\n",
      "### Expected Response:\n"
     ]
    },
    {
     "name": "stderr",
     "output_type": "stream",
     "text": [
      " 78%|███████▊  | 691/884 [36:36<09:14,  2.87s/it]"
     ]
    },
    {
     "name": "stdout",
     "output_type": "stream",
     "text": [
      "You are a patient that has gone to do an interview with a psychologist. The psychologist will ask you a series of questions and you will answer them in a natural way:\n",
      "\n",
      "### Input:\n",
      "yeah .\n",
      " so just take a moment and look it over .\n",
      "\n",
      "### Expected Response:\n"
     ]
    },
    {
     "name": "stderr",
     "output_type": "stream",
     "text": [
      " 79%|███████▊  | 694/884 [36:45<09:23,  2.97s/it]"
     ]
    },
    {
     "name": "stdout",
     "output_type": "stream",
     "text": [
      "You are a patient that has gone to do an interview with a psychologist. The psychologist will ask you a series of questions and you will answer them in a natural way:\n",
      "\n",
      "### Input:\n",
      "and why do you think they're working .\n",
      "\n",
      "### Expected Response:\n",
      "You are a patient that has gone to do an interview with a psychologist. The psychologist will ask you a series of questions and you will answer them in a natural way:\n",
      "\n",
      "### Input:\n",
      "as best you can .\n",
      " so for this next part I want you to &-um tell me about mental illness .\n",
      " so I want you to tell me if you think that you have one .\n",
      " and if you do think you have a mental illness .\n",
      " what is it .\n",
      "\n",
      "### Expected Response:\n",
      "You are a patient that has gone to do an interview with a psychologist. The psychologist will ask you a series of questions and you will answer them in a natural way:\n",
      "\n",
      "### Input:\n",
      "so in own words .\n",
      "\n",
      "### Expected Response:\n",
      "You are a patient that has gone to do an interview with a psychologist. The psychologist will ask you a series of questions and you will answer them in a natural way:\n",
      "\n",
      "### Input:\n",
      "yeah .\n",
      "\n",
      "### Expected Response:\n"
     ]
    },
    {
     "name": "stderr",
     "output_type": "stream",
     "text": [
      " 79%|███████▉  | 701/884 [36:58<07:26,  2.44s/it]"
     ]
    },
    {
     "name": "stdout",
     "output_type": "stream",
     "text": [
      "You are a patient that has gone to do an interview with a psychologist. The psychologist will ask you a series of questions and you will answer them in a natural way:\n",
      "\n",
      "### Input:\n",
      "mhm .\n",
      "\n",
      "### Expected Response:\n"
     ]
    },
    {
     "name": "stderr",
     "output_type": "stream",
     "text": [
      " 81%|████████  | 712/884 [37:32<09:27,  3.30s/it]"
     ]
    },
    {
     "name": "stdout",
     "output_type": "stream",
     "text": [
      "You are a patient that has gone to do an interview with a psychologist. The psychologist will ask you a series of questions and you will answer them in a natural way:\n",
      "\n",
      "### Input:\n",
      "nice .\n",
      "\n",
      "### Expected Response:\n",
      "You are a patient that has gone to do an interview with a psychologist. The psychologist will ask you a series of questions and you will answer them in a natural way:\n",
      "\n",
      "### Input:\n",
      "mhm .\n",
      "\n",
      "### Expected Response:\n"
     ]
    },
    {
     "name": "stderr",
     "output_type": "stream",
     "text": [
      " 81%|████████  | 718/884 [37:46<07:19,  2.65s/it]"
     ]
    },
    {
     "name": "stdout",
     "output_type": "stream",
     "text": [
      "You are a patient that has gone to do an interview with a psychologist. The psychologist will ask you a series of questions and you will answer them in a natural way:\n",
      "\n",
      "### Input:\n",
      "interesting .\n",
      " okay .\n",
      " cool .\n",
      " okay .\n",
      " well I wish you luck with all of your +...\n",
      "\n",
      "### Expected Response:\n",
      "You are a patient that has gone to do an interview with a psychologist. The psychologist will ask you a series of questions and you will answer them in a natural way:\n",
      "\n",
      "### Input:\n",
      "and it's called fringe .\n",
      "\n",
      "### Expected Response:\n",
      "You are a patient that has gone to do an interview with a psychologist. The psychologist will ask you a series of questions and you will answer them in a natural way:\n",
      "\n",
      "### Input:\n",
      "okay .\n",
      " so take whatever amount of time you want to review the text .\n",
      " and you can just give it to me after .\n",
      " okay .\n",
      " tell me the story in your own words .\n",
      "\n",
      "### Expected Response:\n",
      "You are a patient that has gone to do an interview with a psychologist. The psychologist will ask you a series of questions and you will answer them in a natural way:\n",
      "\n",
      "### Input:\n",
      "wow .\n",
      "\n",
      "### Expected Response:\n"
     ]
    },
    {
     "name": "stderr",
     "output_type": "stream",
     "text": [
      " 83%|████████▎ | 730/884 [38:17<09:22,  3.65s/it]"
     ]
    },
    {
     "name": "stdout",
     "output_type": "stream",
     "text": [
      "You are a patient that has gone to do an interview with a psychologist. The psychologist will ask you a series of questions and you will answer them in a natural way:\n",
      "\n",
      "### Input:\n",
      "okay .\n",
      " so next I'm going to give you some pictures from a story .\n",
      " you can take as long as you need to browse the pictures .\n",
      " and after you've seen them all in order I want you to tell me the story in your own words .\n",
      " so it starts from the top .\n",
      " it goes to the bottom there .\n",
      " and it works kind of like a comic strip .\n",
      " so take a moment look it over and then tell me the story in a moment .\n",
      " do you wanna try telling me the story .\n",
      "\n",
      "### Expected Response:\n"
     ]
    },
    {
     "name": "stderr",
     "output_type": "stream",
     "text": [
      " 83%|████████▎ | 733/884 [38:24<07:33,  3.00s/it]"
     ]
    },
    {
     "name": "stdout",
     "output_type": "stream",
     "text": [
      "You are a patient that has gone to do an interview with a psychologist. The psychologist will ask you a series of questions and you will answer them in a natural way:\n",
      "\n",
      "### Input:\n",
      "is there any &-like from when you were a kid ?\n",
      " &-like a recurring &-like nightmare or &-like a silly dream you can remember ?\n",
      "\n",
      "### Expected Response:\n",
      "You are a patient that has gone to do an interview with a psychologist. The psychologist will ask you a series of questions and you will answer them in a natural way:\n",
      "\n",
      "### Input:\n",
      "yeah .\n",
      " &-um okay .\n",
      " and where do you like to order from ?\n",
      "\n",
      "### Expected Response:\n",
      "You are a patient that has gone to do an interview with a psychologist. The psychologist will ask you a series of questions and you will answer them in a natural way:\n",
      "\n",
      "### Input:\n",
      "all right .\n",
      " so same thing for this one here .\n",
      " your second photo .\n",
      " just tell me what you see there .\n",
      "\n",
      "### Expected Response:\n"
     ]
    },
    {
     "name": "stderr",
     "output_type": "stream",
     "text": [
      " 83%|████████▎ | 738/884 [38:30<04:57,  2.04s/it]"
     ]
    },
    {
     "name": "stdout",
     "output_type": "stream",
     "text": [
      "You are a patient that has gone to do an interview with a psychologist. The psychologist will ask you a series of questions and you will answer them in a natural way:\n",
      "\n",
      "### Input:\n",
      "wow .\n",
      "\n",
      "### Expected Response:\n"
     ]
    },
    {
     "name": "stderr",
     "output_type": "stream",
     "text": [
      " 84%|████████▍ | 741/884 [38:39<06:04,  2.55s/it]"
     ]
    },
    {
     "name": "stdout",
     "output_type": "stream",
     "text": [
      "You are a patient that has gone to do an interview with a psychologist. The psychologist will ask you a series of questions and you will answer them in a natural way:\n",
      "\n",
      "### Input:\n",
      "yeah .\n",
      "\n",
      "### Expected Response:\n"
     ]
    },
    {
     "name": "stderr",
     "output_type": "stream",
     "text": [
      " 84%|████████▍ | 746/884 [38:56<07:20,  3.19s/it]"
     ]
    },
    {
     "name": "stdout",
     "output_type": "stream",
     "text": [
      "You are a patient that has gone to do an interview with a psychologist. The psychologist will ask you a series of questions and you will answer them in a natural way:\n",
      "\n",
      "### Input:\n",
      "mhm .\n",
      "\n",
      "### Expected Response:\n"
     ]
    },
    {
     "name": "stderr",
     "output_type": "stream",
     "text": [
      " 86%|████████▌ | 758/884 [39:44<07:58,  3.80s/it]"
     ]
    },
    {
     "name": "stdout",
     "output_type": "stream",
     "text": [
      "You are a patient that has gone to do an interview with a psychologist. The psychologist will ask you a series of questions and you will answer them in a natural way:\n",
      "\n",
      "### Input:\n",
      "those are so good .\n",
      "\n",
      "### Expected Response:\n"
     ]
    },
    {
     "name": "stderr",
     "output_type": "stream",
     "text": [
      " 88%|████████▊ | 780/884 [41:02<07:39,  4.42s/it]"
     ]
    },
    {
     "name": "stdout",
     "output_type": "stream",
     "text": [
      "You are a patient that has gone to do an interview with a psychologist. The psychologist will ask you a series of questions and you will answer them in a natural way:\n",
      "\n",
      "### Input:\n",
      "yeah .\n",
      "\n",
      "### Expected Response:\n"
     ]
    },
    {
     "name": "stderr",
     "output_type": "stream",
     "text": [
      " 89%|████████▊ | 784/884 [41:10<04:55,  2.96s/it]"
     ]
    },
    {
     "name": "stdout",
     "output_type": "stream",
     "text": [
      "You are a patient that has gone to do an interview with a psychologist. The psychologist will ask you a series of questions and you will answer them in a natural way:\n",
      "\n",
      "### Input:\n",
      "mhm .\n",
      "\n",
      "### Expected Response:\n"
     ]
    },
    {
     "name": "stderr",
     "output_type": "stream",
     "text": [
      " 90%|████████▉ | 792/884 [41:35<05:02,  3.28s/it]"
     ]
    },
    {
     "name": "stdout",
     "output_type": "stream",
     "text": [
      "You are a patient that has gone to do an interview with a psychologist. The psychologist will ask you a series of questions and you will answer them in a natural way:\n",
      "\n",
      "### Input:\n",
      "you can describe what happened and how you felt .\n",
      "\n",
      "### Expected Response:\n",
      "You are a patient that has gone to do an interview with a psychologist. The psychologist will ask you a series of questions and you will answer them in a natural way:\n",
      "\n",
      "### Input:\n",
      "alright .\n",
      "\n",
      "### Expected Response:\n"
     ]
    },
    {
     "name": "stderr",
     "output_type": "stream",
     "text": [
      " 90%|█████████ | 798/884 [41:52<05:13,  3.64s/it]"
     ]
    },
    {
     "name": "stdout",
     "output_type": "stream",
     "text": [
      "You are a patient that has gone to do an interview with a psychologist. The psychologist will ask you a series of questions and you will answer them in a natural way:\n",
      "\n",
      "### Input:\n",
      "what was the resolution ?\n",
      "\n",
      "### Expected Response:\n"
     ]
    },
    {
     "name": "stderr",
     "output_type": "stream",
     "text": [
      " 90%|█████████ | 800/884 [41:57<04:19,  3.09s/it]"
     ]
    },
    {
     "name": "stdout",
     "output_type": "stream",
     "text": [
      "You are a patient that has gone to do an interview with a psychologist. The psychologist will ask you a series of questions and you will answer them in a natural way:\n",
      "\n",
      "### Input:\n",
      "wow .\n",
      "\n",
      "### Expected Response:\n"
     ]
    },
    {
     "name": "stderr",
     "output_type": "stream",
     "text": [
      " 91%|█████████ | 805/884 [42:15<04:46,  3.63s/it]"
     ]
    },
    {
     "name": "stdout",
     "output_type": "stream",
     "text": [
      "You are a patient that has gone to do an interview with a psychologist. The psychologist will ask you a series of questions and you will answer them in a natural way:\n",
      "\n",
      "### Input:\n",
      "so &-um you can describe things that you experienced and how you felt while you experienced them .\n",
      " but again no names or identifying information .\n",
      "\n",
      "### Expected Response:\n"
     ]
    },
    {
     "name": "stderr",
     "output_type": "stream",
     "text": [
      " 91%|█████████▏| 807/884 [42:20<04:04,  3.18s/it]"
     ]
    },
    {
     "name": "stdout",
     "output_type": "stream",
     "text": [
      "You are a patient that has gone to do an interview with a psychologist. The psychologist will ask you a series of questions and you will answer them in a natural way:\n",
      "\n",
      "### Input:\n",
      "of course .\n",
      " okay .\n",
      " and do you have a favorite tv show ?\n",
      "\n",
      "### Expected Response:\n"
     ]
    },
    {
     "name": "stderr",
     "output_type": "stream",
     "text": [
      " 92%|█████████▏| 816/884 [42:55<05:34,  4.91s/it]"
     ]
    },
    {
     "name": "stdout",
     "output_type": "stream",
     "text": [
      "You are a patient that has gone to do an interview with a psychologist. The psychologist will ask you a series of questions and you will answer them in a natural way:\n",
      "\n",
      "### Input:\n",
      "and anything else ?\n",
      " &-um can you tell me about your &-uh favorite &-uh sports teams ?\n",
      "\n",
      "### Expected Response:\n"
     ]
    },
    {
     "name": "stderr",
     "output_type": "stream",
     "text": [
      " 93%|█████████▎| 818/884 [42:58<03:46,  3.43s/it]"
     ]
    },
    {
     "name": "stdout",
     "output_type": "stream",
     "text": [
      "You are a patient that has gone to do an interview with a psychologist. The psychologist will ask you a series of questions and you will answer them in a natural way:\n",
      "\n",
      "### Input:\n",
      "okay .\n",
      " and after she drank the water what happened ?\n",
      "\n",
      "### Expected Response:\n"
     ]
    },
    {
     "name": "stderr",
     "output_type": "stream",
     "text": [
      " 95%|█████████▌| 844/884 [44:36<02:40,  4.02s/it]"
     ]
    },
    {
     "name": "stdout",
     "output_type": "stream",
     "text": [
      "You are a patient that has gone to do an interview with a psychologist. The psychologist will ask you a series of questions and you will answer them in a natural way:\n",
      "\n",
      "### Input:\n",
      "or &-like mountain type stuff .\n",
      "\n",
      "### Expected Response:\n"
     ]
    },
    {
     "name": "stderr",
     "output_type": "stream",
     "text": [
      " 96%|█████████▌| 850/884 [44:53<01:51,  3.28s/it]"
     ]
    },
    {
     "name": "stdout",
     "output_type": "stream",
     "text": [
      "You are a patient that has gone to do an interview with a psychologist. The psychologist will ask you a series of questions and you will answer them in a natural way:\n",
      "\n",
      "### Input:\n",
      "yeah [/] yeah .\n",
      " well at least you know to be prepared in real life .\n",
      " right .\n",
      "\n",
      "### Expected Response:\n"
     ]
    },
    {
     "name": "stderr",
     "output_type": "stream",
     "text": [
      " 96%|█████████▋| 853/884 [44:59<01:18,  2.53s/it]"
     ]
    },
    {
     "name": "stdout",
     "output_type": "stream",
     "text": [
      "You are a patient that has gone to do an interview with a psychologist. The psychologist will ask you a series of questions and you will answer them in a natural way:\n",
      "\n",
      "### Input:\n",
      "there you go .\n",
      "\n",
      "### Expected Response:\n",
      "You are a patient that has gone to do an interview with a psychologist. The psychologist will ask you a series of questions and you will answer them in a natural way:\n",
      "\n",
      "### Input:\n",
      "wow .\n",
      " and it's always kind of Peter Pan .\n",
      "\n",
      "### Expected Response:\n"
     ]
    },
    {
     "name": "stderr",
     "output_type": "stream",
     "text": [
      " 98%|█████████▊| 864/884 [45:31<01:02,  3.11s/it]"
     ]
    },
    {
     "name": "stdout",
     "output_type": "stream",
     "text": [
      "You are a patient that has gone to do an interview with a psychologist. The psychologist will ask you a series of questions and you will answer them in a natural way:\n",
      "\n",
      "### Input:\n",
      "&-um and I know that you like to travel .\n",
      "\n",
      "### Expected Response:\n"
     ]
    },
    {
     "name": "stderr",
     "output_type": "stream",
     "text": [
      "100%|██████████| 884/884 [46:36<00:00,  3.16s/it]"
     ]
    },
    {
     "name": "stdout",
     "output_type": "stream",
     "text": [
      "You are a patient that has gone to do an interview with a psychologist. The psychologist will ask you a series of questions and you will answer them in a natural way:\n",
      "\n",
      "### Input:\n",
      "total classic .\n",
      " yeah .\n",
      " one that I've not actually seen but I know that a lot of people have .\n",
      "\n",
      "### Expected Response:\n"
     ]
    },
    {
     "name": "stderr",
     "output_type": "stream",
     "text": [
      "\n"
     ]
    }
   ],
   "source": [
    "# Tokeniza prompt y continuación\n",
    "means = []\n",
    "for ind in tqdm(range(len(reales))):\n",
    "    prompt =reales[ind][:reales[ind].find('### Expected Response:') + len(\"### Expected Response:\")]\n",
    "    continuacion_real = reales_only_response[ind]\n",
    "    continuacion_pred = predictions[ind]\n",
    "    input_ids = tokenizer(prompt, return_tensors=\"pt\").input_ids.to(model.device)\n",
    "    continuation_ids = tokenizer(continuacion_pred, add_special_tokens=False, return_tensors=\"pt\").input_ids.squeeze(0).to(model.device)\n",
    "\n",
    "    log_prob_sum = 0.0\n",
    "    with torch.no_grad():\n",
    "        for i in range(continuation_ids.size(0)):\n",
    "            context_ids = torch.cat([input_ids, continuation_ids[:i].unsqueeze(0)], dim=1).to(model.device)\n",
    "            outputs = model(input_ids=context_ids)\n",
    "            logits = outputs.logits[:, -1, :]          # Predicción del siguiente token\n",
    "            log_probs = torch.log_softmax(logits, dim=-1)\n",
    "            idx = continuation_ids[i].item()\n",
    "            log_prob_sum += log_probs[0, idx].item()\n",
    "    if continuation_ids.size(0) == 0:\n",
    "        print(prompt)\n",
    "        prob_media = 0.0\n",
    "    else:\n",
    "        prob_media = torch.exp(torch.tensor(log_prob_sum / continuation_ids.size(0))).item()\n",
    "    means.append(prob_media)"
   ]
  },
  {
   "cell_type": "code",
   "execution_count": 8,
   "id": "de052ce3",
   "metadata": {},
   "outputs": [
    {
     "data": {
      "text/plain": [
       "np.float64(0.1432432063359544)"
      ]
     },
     "execution_count": 8,
     "metadata": {},
     "output_type": "execute_result"
    }
   ],
   "source": [
    "np.mean(means)"
   ]
  }
 ],
 "metadata": {
  "kernelspec": {
   "display_name": ".venv (3.13.3)",
   "language": "python",
   "name": "python3"
  },
  "language_info": {
   "codemirror_mode": {
    "name": "ipython",
    "version": 3
   },
   "file_extension": ".py",
   "mimetype": "text/x-python",
   "name": "python",
   "nbconvert_exporter": "python",
   "pygments_lexer": "ipython3",
   "version": "3.13.3"
  }
 },
 "nbformat": 4,
 "nbformat_minor": 5
}
